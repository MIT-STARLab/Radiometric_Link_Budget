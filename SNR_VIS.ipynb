{
 "cells": [
  {
   "cell_type": "markdown",
   "id": "81d7bc59-49f7-4b63-b0ce-b4bfdacf8056",
   "metadata": {},
   "source": [
    "## Required parameters\n",
    "\n",
    "| Parameter                         | Symbol     | Units       | Default Value (RGB) | **Description**                                              |\n",
    "|---------------------------------------|----------------|-----------------|--------------------:|----------------------------------------------------------|\n",
    "| Range                                 | $R$            | km              |                 400 | Distance from spectral source (Earth)                    |\n",
    "| Center Wavelength                     | $\\lambda$      | nm              |                 625 | Center wavelength in band                                |\n",
    "| Aperture Diameter                     | $D_{ap}$       | mm              |                11.4 | Collecting area diameter                                 |\n",
    "| Obscuration Diameter                  | $D_{obs}$      | mm              |                   0 | Diameter of obscuration (eg Cassegrain secondary mirror) |\n",
    "| Detector Pixel X-Side Count (Smaller) | $n_x$          | -               |                2200 | Short side pixel count                                   |\n",
    "| Detector Pixel Y-Side Count           | $n_y$          | -               |                3208 | Long side pixel count                                    |\n",
    "| Detector Pixel Pitch                  | $D$            | um              |                   6 | Distance between pixels (square pixels assumed)          |\n",
    "| Focal Length                          | $f$            | mm              |                  16 | Focal length of lens                                     |\n",
    "| Bandwidth                             | $B$           | nm              |                 300 | Bandwidth of filter + pixel                              |\n",
    "| Spectral Radiance in Band             | $L_{typ}$      | W/(sr\\*m^2\\*um) |               20.45 | Average spectral radiance of source                      |\n",
    "| Quantum efficiency over BW            | $\\eta$         | -               |                0.35 | Quantum efficiency of pixels                             |\n",
    "| Exposure Time                         | $t$            | s               |              1.3E-4 | Total exposure time                                      |\n",
    "| Well Capacity                         | $n_{ev_{max}}$ | e-              |               12000 | Maximum capacity of electron well                        |\n",
    "| Dynamic Range                         | $DR$           | dB              |                  55 | Dynamic range of sensor                                  |\n",
    "\n",
    "## Losses\n",
    "\n",
    "| Loss source                        | Symbol     | Default Value |\n",
    "|------------------------------------|------------|--------------:|\n",
    "| Loss due to atmospheric absorption | $L_{abs}$  |          0.11 |\n",
    "| Loss due to atmospheric scatter    | $L_{scat}$ |         0.058 |\n",
    "| Loss due to optics                 | $L_{opt}$  |           0.2 |"
   ]
  },
  {
   "cell_type": "markdown",
   "id": "76644318-195b-42cc-b1fc-5267b01d2be5",
   "metadata": {},
   "source": [
    "## Parameter input and unit conversion"
   ]
  },
  {
   "cell_type": "code",
   "execution_count": 1,
   "id": "8b25e931-82ff-4b99-819a-b08ed80022c8",
   "metadata": {},
   "outputs": [],
   "source": [
    "R = 400\n",
    "lambda_c = 625\n",
    "D_ap = 11.4\n",
    "D_obs = 0\n",
    "n_x = 2200\n",
    "n_y = 3208\n",
    "D = 6\n",
    "f = 16\n",
    "BW = 300\n",
    "L_typ = 20.45\n",
    "eta = 0.35\n",
    "t = 1.3e-4\n",
    "n_evmax = 12000\n",
    "DR = 55\n",
    "\n",
    "# Losses\n",
    "L_abs = 0.11\n",
    "L_scat = 0.0580\n",
    "L_opt = 0.2\n",
    "L_crop = 0.6\n",
    "\n",
    "# Unit conversion\n",
    "\n",
    "R *= 1e3\n",
    "lambda_c *= 1e-9\n",
    "D_ap *= 1e-3\n",
    "D_obs *= 1e-3\n",
    "D *= 1e-6\n",
    "f *= 1e-3\n",
    "BW *= 1e-9\n",
    "L_typ *= 1e6\n"
   ]
  },
  {
   "cell_type": "markdown",
   "id": "a28f754b-8b3b-4097-9647-7286567a3b56",
   "metadata": {},
   "source": [
    "## Helper functions and imports"
   ]
  },
  {
   "cell_type": "code",
   "execution_count": 2,
   "id": "dea96ab4-b850-4ca6-980f-0a5e557a6e7a",
   "metadata": {},
   "outputs": [],
   "source": [
    "import numpy as np\n",
    "import scipy as sp\n",
    "import scipy.constants\n",
    "\n",
    "def db2pow(db):\n",
    "    return 10 ** (db/10)\n",
    "\n",
    "def db2volt(db):\n",
    "    return 10 ** (db/20)\n",
    "\n",
    "def pow2db(power):\n",
    "    return 10 * np.log10(power)"
   ]
  },
  {
   "cell_type": "markdown",
   "id": "92f1c752-1e15-4cd5-a3d0-ce0d2c37cad6",
   "metadata": {},
   "source": [
    "## Additional parameters and constants\n",
    "| Parameter               | Symbol      | Units | Description                                       |\n",
    "|-------------------------|-------------|------:|---------------------------------------------------|\n",
    "| Aperture area           | $A_{ap}$    |  m\\^2 | Area of aperture (assuming circular)              |\n",
    "| Obscuration area        | $A_{obs}$   |  m\\^2 | Area of obscuration (assuming circularity)        |\n",
    "| Detector area           | $A_{det}$   |  m\\^2 | Area of detector (assuming square pixels)         |\n",
    "| Instantaneous pixel FOV | $iFOV_{p}$ |   deg | Angle subtended by pixel in combination with lens |\n",
    "| Pixel smear             | $r_{smear}$ |     m | Ground distance moved during exposure time        |"
   ]
  },
  {
   "cell_type": "code",
   "execution_count": 3,
   "id": "c48f387d-5a7e-4619-8466-8f487901ec35",
   "metadata": {},
   "outputs": [],
   "source": [
    "# Constants\n",
    "\n",
    "R_e = 6378.137 * 1e3 # earth radius\n",
    "h = sp.constants.h\n",
    "c = sp.constants.c\n",
    "\n",
    "A_ap = np.pi * (D_ap ** 2) / 4\n",
    "A_obs= np.pi * (D_obs ** 2) / 4\n",
    "A_det = D**2 * n_x * n_y\n",
    "iFOV_px = np.rad2deg(2 * np.arctan(0.5 * D / f)) # pixel iFOV\n",
    "pix_smear = t * np.sqrt(398600000.5/(R+ R_e)) * 1000\n",
    "# "
   ]
  },
  {
   "cell_type": "markdown",
   "id": "8b3c796f-8027-4800-9c09-b7d40ff68e3a",
   "metadata": {},
   "source": [
    "## Signal"
   ]
  },
  {
   "cell_type": "code",
   "execution_count": 5,
   "id": "61c14678-0e19-4091-9308-d4c49ca5b2bb",
   "metadata": {},
   "outputs": [],
   "source": [
    "P = A_det * ((A_ap - A_obs)/(f ** 2)) * BW * L_typ * (1-L_abs) * (1-L_scat) * (1 - L_opt) * (1-L_crop)\n",
    "phi_det = (lambda_c * P) / (c * h)\n",
    "phi = phi_det / (n_x * n_y)\n",
    "n_ev = phi * eta * t\n",
    "saturation = n_ev / n_evmax\n",
    "\n",
    "# n_ev = total signal"
   ]
  },
  {
   "cell_type": "markdown",
   "id": "30876b89-d756-456d-aaca-23290da42040",
   "metadata": {},
   "source": [
    "## Noise\n",
    "\n",
    "| Noise source        | Symbol    | Default value [e-] |\n",
    "|---------------------|-----------|-------------------:|\n",
    "| Shot noise          | $n_{sh}$  |    $\\sqrt{n_{ev}}$ |\n",
    "| Dark current noise  | $n_d$     |             $100t$ |\n",
    "| Quantization noise  | $n_q$     |                $5$ |\n",
    "| Fixed pattern noise | $n_{fpn}$ | $5e-4 * n_{ev}$    |\n",
    "| Readout noise       | $n_r$     | $n_{ev_{max}}/DR$  |"
   ]
  },
  {
   "cell_type": "code",
   "execution_count": 6,
   "id": "905cb06f-0ca5-419c-8b93-d6645721b3a1",
   "metadata": {},
   "outputs": [],
   "source": [
    "n_sh = np.sqrt(n_ev)\n",
    "n_d = 100 * t\n",
    "n_q = 5\n",
    "n_fpn = 0.0005 * n_ev\n",
    "n_r = n_evmax /(db2volt(DR))"
   ]
  },
  {
   "cell_type": "markdown",
   "id": "56bbfbc6-a492-499e-abea-66ccb0bb6793",
   "metadata": {},
   "source": [
    "## SNR Calculation"
   ]
  },
  {
   "cell_type": "code",
   "execution_count": 7,
   "id": "bd182214-8d66-4684-b06e-6946cf085418",
   "metadata": {},
   "outputs": [],
   "source": [
    "snr = n_ev / np.sqrt(n_sh ** 2 + n_d ** 2 + n_q ** 2 + n_fpn ** 2 + (n_r ** 2) ** 2)"
   ]
  },
  {
   "cell_type": "code",
   "execution_count": null,
   "id": "832e5e61-23d7-496e-bf99-3d2839424851",
   "metadata": {},
   "outputs": [],
   "source": [
    "# Results\n",
    "\n"
   ]
  }
 ],
 "metadata": {
  "kernelspec": {
   "display_name": "Python 3",
   "language": "python",
   "name": "python3"
  },
  "language_info": {
   "codemirror_mode": {
    "name": "ipython",
    "version": 3
   },
   "file_extension": ".py",
   "mimetype": "text/x-python",
   "name": "python",
   "nbconvert_exporter": "python",
   "pygments_lexer": "ipython3",
   "version": "3.9.0"
  }
 },
 "nbformat": 4,
 "nbformat_minor": 5
}
